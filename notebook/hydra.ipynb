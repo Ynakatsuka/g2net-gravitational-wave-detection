{
 "cells": [
  {
   "cell_type": "code",
   "execution_count": 1,
   "metadata": {},
   "outputs": [],
   "source": [
    "import copy\n",
    "import math\n",
    "import os\n",
    "import sys\n",
    "sys.path.append('../src/')\n",
    "import warnings\n",
    "warnings.filterwarnings('ignore')\n",
    "\n",
    "from hydra.experimental import initialize, initialize_config_module, initialize_config_dir, compose\n",
    "from IPython.display import display\n",
    "from omegaconf import OmegaConf\n",
    "import matplotlib.pyplot as plt\n",
    "import numpy as np\n",
    "import pandas as pd\n",
    "from sklearn.metrics import roc_auc_score\n",
    "import torch\n",
    "import torchvision\n",
    "from torchvision.utils import make_grid\n",
    "from torchvision.io.image import read_image\n",
    "from torchvision.transforms.functional import normalize, resize, to_pil_image\n",
    "from torchvision.models import resnet18\n",
    "from tqdm import tqdm\n",
    "\n",
    "import custom\n",
    "from kvt.builder import (\n",
    "        build_callbacks,\n",
    "        build_dataloaders,\n",
    "        build_hooks,\n",
    "        build_lightning_module,\n",
    "        build_logger,\n",
    "        build_loss,\n",
    "        build_model,\n",
    "        build_optimizer,\n",
    "        build_scheduler,\n",
    "        build_metrics,\n",
    ")\n",
    "import kvt.utils\n",
    "from kvt.initialization import initialize as kvt_initialize\n",
    "\n",
    "kvt_initialize()"
   ]
  },
  {
   "cell_type": "code",
   "execution_count": 5,
   "metadata": {},
   "outputs": [],
   "source": [
    "with initialize(config_path='../config/'):\n",
    "    config = compose(\n",
    "        overrides=[\n",
    "            '+trainer=exp001', \n",
    "#             '+augmentation=exp001', \n",
    "            '+dataset=default_dataset', \n",
    "        ]\n",
    "    )\n",
    "    # replace for notebook\n",
    "#     config.dataset.dataset.params.data_dir = '../data/input'\n",
    "#     config.trainer.evaluation.dirpath = '../data/output/predictions/oof'\n",
    "#     config.trainer.evaluation.batch_size = batch_size"
   ]
  },
  {
   "cell_type": "code",
   "execution_count": 6,
   "metadata": {},
   "outputs": [
    {
     "name": "stdout",
     "output_type": "stream",
     "text": [
      "Loaded object file: ../src/kvt/hooks/post_forward_hook.py\n",
      "Loaded object file: ../src/kvt/hooks/model_builder_hook.py\n",
      "Loaded object file: /opt/conda/lib/python3.7/site-packages/timm/models/resnet.py\n",
      "---------------------------------------------------------------\n",
      "dataset config: \n",
      " {'name': 'RANZCRDataset', 'params': {'data_dir': '../data/input', 'csv_filename': 'preprocessed_train.csv', 'image_column': 'StudyInstanceUID', 'target_column': ['ETT - Abnormal', 'ETT - Borderline', 'ETT - Normal', 'NGT - Abnormal', 'NGT - Borderline', 'NGT - Incompletely Imaged', 'NGT - Normal', 'CVC - Abnormal', 'CVC - Borderline', 'CVC - Normal', 'Swan Ganz Catheter Present'], 'num_fold': 5, 'idx_fold': 0, 'mode': 'train', 'split': 'train'}}\n",
      "Loaded object file: ../src/custom/transforms/ranzcr_transform.py\n",
      "[ranzcr_transform] resize_to: (768, 768)\n",
      "[ranzcr_transform] tta: 1\n",
      "Loaded object file: ../src/custom/datasets/ranzcr.py\n",
      "---------------------------------------------------------------\n",
      "dataset config: \n",
      " {'name': 'RANZCRDataset', 'params': {'data_dir': '../data/input', 'csv_filename': 'preprocessed_train.csv', 'image_column': 'StudyInstanceUID', 'target_column': ['ETT - Abnormal', 'ETT - Borderline', 'ETT - Normal', 'NGT - Abnormal', 'NGT - Borderline', 'NGT - Incompletely Imaged', 'NGT - Normal', 'CVC - Abnormal', 'CVC - Borderline', 'CVC - Normal', 'Swan Ganz Catheter Present'], 'num_fold': 5, 'idx_fold': 0, 'mode': 'validation', 'split': 'validation'}}\n",
      "Loaded object file: ../src/custom/transforms/ranzcr_transform.py\n",
      "[ranzcr_transform] resize_to: (768, 768)\n",
      "[ranzcr_transform] tta: 1\n",
      "Loaded object file: ../src/custom/datasets/ranzcr.py\n",
      "---------------------------------------------------------------\n",
      "dataset config: \n",
      " {'name': 'RANZCRDataset', 'params': {'data_dir': '../data/input', 'csv_filename': 'preprocessed_train.csv', 'image_column': 'StudyInstanceUID', 'target_column': ['ETT - Abnormal', 'ETT - Borderline', 'ETT - Normal', 'NGT - Abnormal', 'NGT - Borderline', 'NGT - Incompletely Imaged', 'NGT - Normal', 'CVC - Abnormal', 'CVC - Borderline', 'CVC - Normal', 'Swan Ganz Catheter Present'], 'num_fold': 5, 'idx_fold': 0, 'mode': 'test', 'split': 'test'}}\n",
      "Loaded object file: ../src/custom/transforms/ranzcr_transform.py\n",
      "[ranzcr_transform] resize_to: (768, 768)\n",
      "[ranzcr_transform] tta: 1\n",
      "Loaded object file: ../src/custom/datasets/ranzcr.py\n"
     ]
    }
   ],
   "source": [
    "# build hooks\n",
    "hooks = build_hooks(config)\n",
    "\n",
    "# build model\n",
    "model = build_model(config)\n",
    "\n",
    "# build datasets\n",
    "dataloaders = build_dataloaders(config)"
   ]
  },
  {
   "cell_type": "code",
   "execution_count": null,
   "metadata": {},
   "outputs": [],
   "source": []
  }
 ],
 "metadata": {
  "kernelspec": {
   "display_name": "Python 3",
   "language": "python",
   "name": "python3"
  },
  "language_info": {
   "codemirror_mode": {
    "name": "ipython",
    "version": 3
   },
   "file_extension": ".py",
   "mimetype": "text/x-python",
   "name": "python",
   "nbconvert_exporter": "python",
   "pygments_lexer": "ipython3",
   "version": "3.7.6"
  }
 },
 "nbformat": 4,
 "nbformat_minor": 4
}
