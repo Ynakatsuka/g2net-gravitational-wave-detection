{
 "cells": [
  {
   "cell_type": "code",
   "execution_count": 30,
   "metadata": {},
   "outputs": [],
   "source": [
    "import glob\n",
    "\n",
    "import matplotlib.pyplot as plt\n",
    "import numpy as np\n",
    "import pandas as pd"
   ]
  },
  {
   "cell_type": "code",
   "execution_count": 31,
   "metadata": {},
   "outputs": [],
   "source": [
    "experiments = [e.split('/')[-1] for e in sorted(glob.glob('../data/output/predictions/test/*'))]\n",
    "predictions = {}\n",
    "for exp in experiments:\n",
    "    paths = sorted(glob.glob(f'../data/output/predictions/test/{exp}/*.npy'))\n",
    "    if len(paths) != 5:\n",
    "        continue\n",
    "    predictions[exp] = np.mean([np.load(path) for path in paths], axis=0).flatten()"
   ]
  },
  {
   "cell_type": "code",
   "execution_count": 32,
   "metadata": {},
   "outputs": [],
   "source": [
    "kernel_paths = glob.glob('../data/output/predictions/kernel/*.csv')\n",
    "for path in kernel_paths:\n",
    "    exp = path.split('/')[-1]\n",
    "    pred = pd.read_csv(path)['target'].values\n",
    "    predictions[exp] = pred\n",
    "predictions = pd.DataFrame(predictions)"
   ]
  },
  {
   "cell_type": "code",
   "execution_count": 33,
   "metadata": {},
   "outputs": [
    {
     "data": {
      "text/html": [
       "<div>\n",
       "<style scoped>\n",
       "    .dataframe tbody tr th:only-of-type {\n",
       "        vertical-align: middle;\n",
       "    }\n",
       "\n",
       "    .dataframe tbody tr th {\n",
       "        vertical-align: top;\n",
       "    }\n",
       "\n",
       "    .dataframe thead th {\n",
       "        text-align: right;\n",
       "    }\n",
       "</style>\n",
       "<table border=\"1\" class=\"dataframe\">\n",
       "  <thead>\n",
       "    <tr style=\"text-align: right;\">\n",
       "      <th></th>\n",
       "      <th>default</th>\n",
       "      <th>trainer=exp001</th>\n",
       "      <th>trainer=exp002</th>\n",
       "      <th>submission5.csv</th>\n",
       "    </tr>\n",
       "  </thead>\n",
       "  <tbody>\n",
       "    <tr>\n",
       "      <th>default</th>\n",
       "      <td>1.000000</td>\n",
       "      <td>0.986121</td>\n",
       "      <td>0.985951</td>\n",
       "      <td>0.974127</td>\n",
       "    </tr>\n",
       "    <tr>\n",
       "      <th>trainer=exp001</th>\n",
       "      <td>0.986121</td>\n",
       "      <td>1.000000</td>\n",
       "      <td>0.992898</td>\n",
       "      <td>0.968315</td>\n",
       "    </tr>\n",
       "    <tr>\n",
       "      <th>trainer=exp002</th>\n",
       "      <td>0.985951</td>\n",
       "      <td>0.992898</td>\n",
       "      <td>1.000000</td>\n",
       "      <td>0.972170</td>\n",
       "    </tr>\n",
       "    <tr>\n",
       "      <th>submission5.csv</th>\n",
       "      <td>0.974127</td>\n",
       "      <td>0.968315</td>\n",
       "      <td>0.972170</td>\n",
       "      <td>1.000000</td>\n",
       "    </tr>\n",
       "  </tbody>\n",
       "</table>\n",
       "</div>"
      ],
      "text/plain": [
       "                  default  trainer=exp001  trainer=exp002  submission5.csv\n",
       "default          1.000000        0.986121        0.985951         0.974127\n",
       "trainer=exp001   0.986121        1.000000        0.992898         0.968315\n",
       "trainer=exp002   0.985951        0.992898        1.000000         0.972170\n",
       "submission5.csv  0.974127        0.968315        0.972170         1.000000"
      ]
     },
     "execution_count": 33,
     "metadata": {},
     "output_type": "execute_result"
    }
   ],
   "source": [
    "predictions.corr()"
   ]
  },
  {
   "cell_type": "code",
   "execution_count": 34,
   "metadata": {},
   "outputs": [
    {
     "data": {
      "image/png": "[encoded data removed]",
      "text/plain": [
       "<Figure size 432x288 with 1 Axes>"
      ]
     },
     "metadata": {
      "needs_background": "light"
     },
     "output_type": "display_data"
    }
   ],
   "source": [
    "for key, preds in predictions.items():\n",
    "    plt.hist(preds, bins=100, alpha=0.5, label=key)\n",
    "plt.legend();"
   ]
  },
  {
   "cell_type": "code",
   "execution_count": 35,
   "metadata": {},
   "outputs": [],
   "source": [
    "rank_predictions = {}\n",
    "for key, preds in predictions.items():\n",
    "    rank_predictions[key] = preds.rank() / len(preds)\n",
    "rank_predictions = pd.DataFrame(rank_predictions)"
   ]
  },
  {
   "cell_type": "code",
   "execution_count": 36,
   "metadata": {},
   "outputs": [],
   "source": [
    "preds = 0.7 * (0.3 * rank_predictions['default'] + 0.3 * rank_predictions['trainer=exp001'] + 0.4 * rank_predictions['trainer=exp002'])  + 0.3 * rank_predictions['submission5.csv']"
   ]
  },
  {
   "cell_type": "code",
   "execution_count": 37,
   "metadata": {},
   "outputs": [
    {
     "data": {
      "text/html": [
       "<div>\n",
       "<style scoped>\n",
       "    .dataframe tbody tr th:only-of-type {\n",
       "        vertical-align: middle;\n",
       "    }\n",
       "\n",
       "    .dataframe tbody tr th {\n",
       "        vertical-align: top;\n",
       "    }\n",
       "\n",
       "    .dataframe thead th {\n",
       "        text-align: right;\n",
       "    }\n",
       "</style>\n",
       "<table border=\"1\" class=\"dataframe\">\n",
       "  <thead>\n",
       "    <tr style=\"text-align: right;\">\n",
       "      <th></th>\n",
       "      <th>id</th>\n",
       "      <th>target</th>\n",
       "    </tr>\n",
       "  </thead>\n",
       "  <tbody>\n",
       "    <tr>\n",
       "      <th>0</th>\n",
       "      <td>00005bced6</td>\n",
       "      <td>0.929743</td>\n",
       "    </tr>\n",
       "    <tr>\n",
       "      <th>1</th>\n",
       "      <td>0000806717</td>\n",
       "      <td>0.754999</td>\n",
       "    </tr>\n",
       "    <tr>\n",
       "      <th>2</th>\n",
       "      <td>0000ef4fe1</td>\n",
       "      <td>0.518671</td>\n",
       "    </tr>\n",
       "    <tr>\n",
       "      <th>3</th>\n",
       "      <td>00020de251</td>\n",
       "      <td>0.738720</td>\n",
       "    </tr>\n",
       "    <tr>\n",
       "      <th>4</th>\n",
       "      <td>00024887b5</td>\n",
       "      <td>0.065424</td>\n",
       "    </tr>\n",
       "  </tbody>\n",
       "</table>\n",
       "</div>"
      ],
      "text/plain": [
       "           id    target\n",
       "0  00005bced6  0.929743\n",
       "1  0000806717  0.754999\n",
       "2  0000ef4fe1  0.518671\n",
       "3  00020de251  0.738720\n",
       "4  00024887b5  0.065424"
      ]
     },
     "execution_count": 37,
     "metadata": {},
     "output_type": "execute_result"
    }
   ],
   "source": [
    "sub = pd.read_csv('../data/input/sample_submission.csv')\n",
    "sub['target'] = preds\n",
    "sub.to_csv('../data/output/submission/ensebmle.csv', index=None)\n",
    "sub.head()"
   ]
  },
  {
   "cell_type": "code",
   "execution_count": 38,
   "metadata": {},
   "outputs": [
    {
     "name": "stdout",
     "output_type": "stream",
     "text": [
      "Warning: Looks like you're using an outdated API Version, please consider updating (server 1.5.12 / client 1.5.9)\n",
      "100%|██████████████████████████████████████| 6.51M/6.51M [00:03<00:00, 1.93MB/s]\n",
      "Successfully submitted to G2Net Gravitational Wave Detection"
     ]
    }
   ],
   "source": [
    "# !kaggle competitions submit g2net-gravitational-wave-detection -f ../data/output/submission/ensebmle.csv -m \"\""
   ]
  },
  {
   "cell_type": "code",
   "execution_count": null,
   "metadata": {},
   "outputs": [],
   "source": []
  }
 ],
 "metadata": {
  "kernelspec": {
   "display_name": "Python 3",
   "language": "python",
   "name": "python3"
  },
  "language_info": {
   "codemirror_mode": {
    "name": "ipython",
    "version": 3
   },
   "file_extension": ".py",
   "mimetype": "text/x-python",
   "name": "python",
   "nbconvert_exporter": "python",
   "pygments_lexer": "ipython3",
   "version": "3.7.6"
  }
 },
 "nbformat": 4,
 "nbformat_minor": 4
}
