{
 "cells": [
  {
   "cell_type": "code",
   "execution_count": 16,
   "metadata": {},
   "outputs": [],
   "source": [
    "import json\n",
    "import gc\n",
    "import glob\n",
    "\n",
    "import cv2\n",
    "import matplotlib.patches as patches\n",
    "import numpy as np\n",
    "import pandas as pd\n",
    "import scipy\n",
    "import torch\n",
    "from torch.utils.data import Dataset\n",
    "from tqdm.notebook import tqdm\n",
    "\n",
    "from ipywidgets import interact\n",
    "\n",
    "seed = 777\n",
    "np.random.seed(seed)\n",
    "pd.set_option('display.max_columns', 500)\n",
    "pd.set_option('display.max_rows', 500)\n",
    "%matplotlib inline"
   ]
  },
  {
   "cell_type": "markdown",
   "metadata": {},
   "source": [
    "## Load"
   ]
  },
  {
   "cell_type": "code",
   "execution_count": 2,
   "metadata": {},
   "outputs": [
    {
     "data": {
      "text/html": [
       "<div>\n",
       "<style scoped>\n",
       "    .dataframe tbody tr th:only-of-type {\n",
       "        vertical-align: middle;\n",
       "    }\n",
       "\n",
       "    .dataframe tbody tr th {\n",
       "        vertical-align: top;\n",
       "    }\n",
       "\n",
       "    .dataframe thead th {\n",
       "        text-align: right;\n",
       "    }\n",
       "</style>\n",
       "<table border=\"1\" class=\"dataframe\">\n",
       "  <thead>\n",
       "    <tr style=\"text-align: right;\">\n",
       "      <th></th>\n",
       "      <th>id</th>\n",
       "      <th>target</th>\n",
       "    </tr>\n",
       "  </thead>\n",
       "  <tbody>\n",
       "    <tr>\n",
       "      <th>0</th>\n",
       "      <td>00000e74ad</td>\n",
       "      <td>1</td>\n",
       "    </tr>\n",
       "    <tr>\n",
       "      <th>1</th>\n",
       "      <td>00001f4945</td>\n",
       "      <td>0</td>\n",
       "    </tr>\n",
       "    <tr>\n",
       "      <th>2</th>\n",
       "      <td>0000661522</td>\n",
       "      <td>0</td>\n",
       "    </tr>\n",
       "  </tbody>\n",
       "</table>\n",
       "</div>"
      ],
      "text/plain": [
       "           id  target\n",
       "0  00000e74ad       1\n",
       "1  00001f4945       0\n",
       "2  0000661522       0"
      ]
     },
     "execution_count": 2,
     "metadata": {},
     "output_type": "execute_result"
    }
   ],
   "source": [
    "train = pd.read_csv('../data/input/training_labels.csv')\n",
    "test = pd.read_csv('../data/input/sample_submission.csv')\n",
    "train.head(3)"
   ]
  },
  {
   "cell_type": "code",
   "execution_count": 3,
   "metadata": {},
   "outputs": [
    {
     "name": "stdout",
     "output_type": "stream",
     "text": [
      "226000\n"
     ]
    }
   ],
   "source": [
    "paths = sorted(glob.glob('../data/input/test/*/*/*/*.npy'))\n",
    "print(len(paths))"
   ]
  },
  {
   "cell_type": "code",
   "execution_count": 4,
   "metadata": {},
   "outputs": [
    {
     "name": "stdout",
     "output_type": "stream",
     "text": [
      "560000\n"
     ]
    }
   ],
   "source": [
    "paths = sorted(glob.glob('../data/input/train/*/*/*/*.npy'))\n",
    "print(len(paths))"
   ]
  },
  {
   "cell_type": "code",
   "execution_count": 6,
   "metadata": {},
   "outputs": [
    {
     "name": "stderr",
     "output_type": "stream",
     "text": [
      "/opt/conda/lib/python3.7/site-packages/ipykernel_launcher.py:2: TqdmDeprecationWarning: This function will be removed in tqdm==5.0.0\n",
      "Please use `tqdm.notebook.tqdm` instead of `tqdm.tqdm_notebook`\n",
      "  \n"
     ]
    },
    {
     "data": {
      "application/vnd.jupyter.widget-view+json": {
       "model_id": "d61e90a424da4ee9803122f48509618c",
       "version_major": 2,
       "version_minor": 0
      },
      "text/plain": [
       "HBox(children=(FloatProgress(value=0.0, max=560000.0), HTML(value='')))"
      ]
     },
     "metadata": {},
     "output_type": "display_data"
    },
    {
     "name": "stdout",
     "output_type": "stream",
     "text": [
      "\n"
     ]
    }
   ],
   "source": [
    "inputs = []\n",
    "for path in tqdm(paths):\n",
    "    x = np.load(path)\n",
    "    inputs.append(x.astype('float32'))\n",
    "inputs = np.array(inputs)\n",
    "inputs = np.swapaxes(inputs, 0, 1).reshape(3, -1)"
   ]
  },
  {
   "cell_type": "code",
   "execution_count": 11,
   "metadata": {},
   "outputs": [
    {
     "name": "stdout",
     "output_type": "stream",
     "text": [
      "4.6152116e-20 ,\n",
      "-4.4294355e-20 ,\n",
      "4.3110074e-26 ,\n",
      "6.1481726e-21 ,\n",
      "[4.615211576239283e-20, 4.1438352724751244e-20, 1.116106399464704e-20]\n",
      "[-4.429435534830396e-20, -4.230390676290849e-20, -1.0863199002564822e-20]\n",
      "[5.36452185976515e-27, 1.2159633880759268e-25, 2.3708170652387652e-27]\n",
      "[7.420985434240565e-21, 7.41928583657571e-21, 1.8380779179850478e-21]\n"
     ]
    }
   ],
   "source": [
    "print(inputs.max(), ',')\n",
    "print(inputs.min(), ',')\n",
    "print(inputs.mean(), ',')\n",
    "print(inputs.std(), ',')\n",
    "\n",
    "print(inputs.max(axis=1).tolist())\n",
    "print(inputs.min(axis=1).tolist())\n",
    "print(inputs.mean(axis=1).tolist())\n",
    "print(inputs.std(axis=1).tolist())"
   ]
  },
  {
   "cell_type": "code",
   "execution_count": 19,
   "metadata": {},
   "outputs": [
    {
     "data": {
      "text/plain": [
       "38"
      ]
     },
     "execution_count": 19,
     "metadata": {},
     "output_type": "execute_result"
    }
   ],
   "source": [
    "del inputs; gc.collect()"
   ]
  },
  {
   "cell_type": "code",
   "execution_count": 20,
   "metadata": {},
   "outputs": [
    {
     "data": {
      "application/vnd.jupyter.widget-view+json": {
       "model_id": "caf2ea8955fd4879a0d6a5142d1c059c",
       "version_major": 2,
       "version_minor": 0
      },
      "text/plain": [
       "HBox(children=(FloatProgress(value=0.0, max=279930.0), HTML(value='')))"
      ]
     },
     "metadata": {},
     "output_type": "display_data"
    },
    {
     "name": "stdout",
     "output_type": "stream",
     "text": [
      "\n"
     ]
    }
   ],
   "source": [
    "inputs = []\n",
    "for path in tqdm(np.array(paths)[train.target==1]):\n",
    "    x = np.load(path)\n",
    "    inputs.append(x.astype('float32'))\n",
    "inputs = np.array(inputs)\n",
    "inputs = np.swapaxes(inputs, 0, 1).reshape(3, -1)"
   ]
  },
  {
   "cell_type": "code",
   "execution_count": 21,
   "metadata": {},
   "outputs": [
    {
     "name": "stdout",
     "output_type": "stream",
     "text": [
      "4.2472526e-20 ,\n",
      "-4.2402206e-20 ,\n",
      "5.1104632e-27 ,\n",
      "6.150679e-21 ,\n",
      "[4.2472525592072864e-20, 4.117383587449327e-20, 1.116106399464704e-20]\n",
      "[-4.240220554648305e-20, -4.0634691829693425e-20, -1.0863199002564822e-20]\n",
      "[-1.1585131135390093e-25, 1.2261404333103765e-25, 8.567984691952604e-27]\n",
      "[7.419569372117708e-21, 7.420041931354372e-21, 1.8384591965486464e-21]\n"
     ]
    }
   ],
   "source": [
    "print(inputs.max(), ',')\n",
    "print(inputs.min(), ',')\n",
    "print(inputs.mean(), ',')\n",
    "print(inputs.std(), ',')\n",
    "\n",
    "print(inputs.max(axis=1).tolist())\n",
    "print(inputs.min(axis=1).tolist())\n",
    "print(inputs.mean(axis=1).tolist())\n",
    "print(inputs.std(axis=1).tolist())"
   ]
  },
  {
   "cell_type": "code",
   "execution_count": 22,
   "metadata": {},
   "outputs": [
    {
     "data": {
      "text/plain": [
       "59"
      ]
     },
     "execution_count": 22,
     "metadata": {},
     "output_type": "execute_result"
    }
   ],
   "source": [
    "del inputs; gc.collect()"
   ]
  },
  {
   "cell_type": "code",
   "execution_count": 23,
   "metadata": {},
   "outputs": [
    {
     "data": {
      "application/vnd.jupyter.widget-view+json": {
       "model_id": "7aff5efb5d094fc0b3458673e91e160d",
       "version_major": 2,
       "version_minor": 0
      },
      "text/plain": [
       "HBox(children=(FloatProgress(value=0.0, max=280070.0), HTML(value='')))"
      ]
     },
     "metadata": {},
     "output_type": "display_data"
    },
    {
     "name": "stdout",
     "output_type": "stream",
     "text": [
      "\n"
     ]
    }
   ],
   "source": [
    "inputs = []\n",
    "for path in tqdm(np.array(paths)[train.target==0]):\n",
    "    x = np.load(path)\n",
    "    inputs.append(x.astype('float32'))\n",
    "inputs = np.array(inputs)\n",
    "inputs = np.swapaxes(inputs, 0, 1).reshape(3, -1)"
   ]
  },
  {
   "cell_type": "code",
   "execution_count": 24,
   "metadata": {},
   "outputs": [
    {
     "name": "stdout",
     "output_type": "stream",
     "text": [
      "4.6152116e-20 ,\n",
      "-4.4294355e-20 ,\n",
      "8.1091296e-26 ,\n",
      "6.1511348e-21 ,\n",
      "[4.615211576239283e-20, 4.1438352724751244e-20, 1.0654284199106898e-20]\n",
      "[-4.429435534830396e-20, -4.230390676290849e-20, -1.0550007743136932e-20]\n",
      "[1.2652013740704606e-25, 1.2057963268623088e-25, -3.823454733210693e-27]\n",
      "[7.422401496363422e-21, 7.418530549590615e-21, 1.837696639421449e-21]\n"
     ]
    }
   ],
   "source": [
    "print(inputs.max(), ',')\n",
    "print(inputs.min(), ',')\n",
    "print(inputs.mean(), ',')\n",
    "print(inputs.std(), ',')\n",
    "\n",
    "print(inputs.max(axis=1).tolist())\n",
    "print(inputs.min(axis=1).tolist())\n",
    "print(inputs.mean(axis=1).tolist())\n",
    "print(inputs.std(axis=1).tolist())"
   ]
  },
  {
   "cell_type": "code",
   "execution_count": null,
   "metadata": {},
   "outputs": [],
   "source": []
  }
 ],
 "metadata": {
  "kernelspec": {
   "display_name": "Python 3",
   "language": "python",
   "name": "python3"
  },
  "language_info": {
   "codemirror_mode": {
    "name": "ipython",
    "version": 3
   },
   "file_extension": ".py",
   "mimetype": "text/x-python",
   "name": "python",
   "nbconvert_exporter": "python",
   "pygments_lexer": "ipython3",
   "version": "3.7.6"
  }
 },
 "nbformat": 4,
 "nbformat_minor": 4
}
